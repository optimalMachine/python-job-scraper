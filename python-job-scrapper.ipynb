{
 "cells": [
  {
   "cell_type": "markdown",
   "metadata": {
    "colab_type": "text",
    "id": "Z1xv62Qpf6gE"
   },
   "source": [
    "# Python Job Scraper\n",
    "![alt text](https://drive.google.com/uc?id=13AYFYCq5tlmeONf877n1DeExC8v_aq_4)\n",
    "\n",
    "## Python Web Scraping project\n",
    "Written by Jiuk Choi\n",
    "\n",
    "There are numerous resources on the internet for finding jobs. As a jobseeker, it is easy to find and search jobs manually through websites such as Indoor, Glassdoor, etc. However, it is somewhat tedious process, and it may take a long time to find a right one. In order to find a job and reduce both time and energy, it is very useful to create a web scraping tool. For this project, Python is the best tool for creating 'Job Scraper'.\n",
    "Here is the process for creating web scrapper for job-seeking purpose.\n",
    "Plus, Python code files will automatically scrap jobs from those two websites."
   ]
  }
 ],
 "metadata": {
  "colab": {
   "authorship_tag": "ABX9TyM9vYaSNdeFRBwEIhT/mt06",
   "collapsed_sections": [],
   "name": "python-job-scrapper.ipynb",
   "provenance": []
  },
  "kernelspec": {
   "display_name": "Python 3",
   "language": "python",
   "name": "python3"
  },
  "language_info": {
   "codemirror_mode": {
    "name": "ipython",
    "version": 3
   },
   "file_extension": ".py",
   "mimetype": "text/x-python",
   "name": "python",
   "nbconvert_exporter": "python",
   "pygments_lexer": "ipython3",
   "version": "3.7.4"
  }
 },
 "nbformat": 4,
 "nbformat_minor": 1
}